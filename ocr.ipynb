{
 "cells": [
  {
   "cell_type": "code",
   "execution_count": 7,
   "metadata": {},
   "outputs": [
    {
     "name": "stdout",
     "output_type": "stream",
     "text": [
      "আমি জানিনা ভালো বাসার\n",
      "পরিনতি\n",
      "\n",
      "জানতে চেষ্ঠাও করিনা\n",
      "\n",
      "জানতে চেষ্ঠা করি অকৃত্তিম\n",
      "\n",
      "ও সীমাহীন ভালো বাসা কি\n",
      "\n",
      "জানি শুধু ভালো বাসার জন্যই\n",
      "\n",
      "ভালো বাসি।\n",
      "\n",
      " \n",
      "\f",
      "\n"
     ]
    }
   ],
   "source": [
    "from PIL import Image    \n",
    "import pytesseract \n",
    "pytesseract.pytesseract.tesseract_cmd = \"C:\\\\Program Files\\\\Tesseract-OCR\\\\tesseract.exe\"\n",
    "# text = pytesseract.image_to_string(Image.open(\"./test1.png\"),lang=\"ben\")\n",
    "# print(text)\n",
    "print(pytesseract.image_to_string(Image.open('test3.jpg'), lang='ben'))"
   ]
  },
  {
   "cell_type": "code",
   "execution_count": 9,
   "metadata": {},
   "outputs": [
    {
     "name": "stdout",
     "output_type": "stream",
     "text": [
      " \n",
      "\f",
      "\n"
     ]
    }
   ],
   "source": [
    "print(pytesseract.image_to_string(Image.open('Comilla_33.jpg'), lang='ben'))"
   ]
  },
  {
   "cell_type": "code",
   "execution_count": 10,
   "metadata": {},
   "outputs": [],
   "source": [
    "data = ['Dhaka_6_binary.jpg','Dhaka_6_SEGMENT_1.jpg','Dhaka_6_SEGMENT_3.jpg','Dhaka_6_SEGMENT_12.jpg','Dhaka_6_SEGMENT_64.jpg',\n",
    "        'Dhaka_6_SEGMENT_65.jpg','Dhaka_6_SEGMENT_70.jpg','Dhaka_6_SEGMENT_73.jpg','Dhaka_6_SEGMENT_84.jpg','Dhaka_6_SEGMENT_88.jpg']"
   ]
  },
  {
   "cell_type": "code",
   "execution_count": 14,
   "metadata": {},
   "outputs": [
    {
     "name": "stdout",
     "output_type": "stream",
     "text": [
      " \n",
      "\f",
      "\n",
      " \n",
      "\f",
      "\n",
      "\f",
      "\n",
      " \n",
      "\f",
      "\n",
      "\f",
      "\n",
      " \n",
      "\f",
      "\n",
      "০০\n",
      "\f",
      "\n",
      " \n",
      "\f",
      "\n",
      "\f",
      "\n",
      " \n",
      "\f",
      "\n"
     ]
    }
   ],
   "source": [
    "for i in data:\n",
    "    print(pytesseract.image_to_string(Image.open(i), lang='ben'))"
   ]
  },
  {
   "cell_type": "code",
   "execution_count": 19,
   "metadata": {},
   "outputs": [
    {
     "name": "stdout",
     "output_type": "stream",
     "text": [
      " \n",
      "\n",
      "দৈবাৎ যদি করে, একবার বারণ করিলে,\n",
      "তামাতা অথবা শিক্ষক বলেন, রাম, তুমি\n",
      "বুঝিয়া করিয়াছি, আর কখনও এমন কর্ম\n",
      "ররাম আর কদাচ তেমন কর্ম করে না।\n",
      "নাম কখনও কাহাকেও সেরূপ কথা\n",
      "\n",
      "খোড়া বলিয়া ডাকে না । কানাকে কানা\n",
      "হয় । এজন্য, কাহারও ওরূপ বলা উচিত\n",
      "য় বা অশ্লীল কথা শুনিতে পায় না।\n",
      "\n",
      " \n",
      "\n",
      " \n",
      "\n",
      " \n",
      "\f",
      "\n"
     ]
    }
   ],
   "source": [
    "print(pytesseract.image_to_string(Image.open('test2.png'), lang='ben'))"
   ]
  },
  {
   "cell_type": "code",
   "execution_count": 20,
   "metadata": {},
   "outputs": [
    {
     "name": "stdout",
     "output_type": "stream",
     "text": [
      "\f",
      "\n"
     ]
    }
   ],
   "source": [
    "print(pytesseract.image_to_string(Image.open('Dhaka_6_binary_cp.jpg'), lang='ben'))"
   ]
  },
  {
   "cell_type": "code",
   "execution_count": 29,
   "metadata": {},
   "outputs": [],
   "source": [
    "import cv2\n",
    "import numpy as np\n",
    "\n",
    "img = cv2.imread('Dhaka_6_binary_cp.jpg')\n",
    "img2 = cv2.imread('test2.png')"
   ]
  },
  {
   "cell_type": "code",
   "execution_count": 30,
   "metadata": {},
   "outputs": [
    {
     "data": {
      "text/plain": [
       "((691, 2463, 3), (696, 850, 3))"
      ]
     },
     "execution_count": 30,
     "metadata": {},
     "output_type": "execute_result"
    }
   ],
   "source": [
    "img.shape, img2.shape"
   ]
  },
  {
   "cell_type": "code",
   "execution_count": 31,
   "metadata": {},
   "outputs": [
    {
     "data": {
      "text/plain": [
       "1076372247"
      ]
     },
     "execution_count": 31,
     "metadata": {},
     "output_type": "execute_result"
    }
   ],
   "source": [
    "img.sum()"
   ]
  },
  {
   "cell_type": "code",
   "execution_count": 32,
   "metadata": {},
   "outputs": [
    {
     "data": {
      "text/plain": [
       "389741826"
      ]
     },
     "execution_count": 32,
     "metadata": {},
     "output_type": "execute_result"
    }
   ],
   "source": [
    "img2.sum()"
   ]
  },
  {
   "cell_type": "code",
   "execution_count": 39,
   "metadata": {},
   "outputs": [],
   "source": [
    "kernel = np.ones((5,5), np.uint8)\n",
    "img_dilation = cv2.dilate(img, kernel, iterations=3)"
   ]
  },
  {
   "cell_type": "code",
   "execution_count": 40,
   "metadata": {},
   "outputs": [
    {
     "data": {
      "text/plain": [
       "-1"
      ]
     },
     "execution_count": 40,
     "metadata": {},
     "output_type": "execute_result"
    }
   ],
   "source": [
    "cv2.imshow('Dilation', img_dilation)\n",
    "  \n",
    "cv2.waitKey(0)"
   ]
  },
  {
   "cell_type": "code",
   "execution_count": 42,
   "metadata": {},
   "outputs": [
    {
     "data": {
      "text/plain": [
       "True"
      ]
     },
     "execution_count": 42,
     "metadata": {},
     "output_type": "execute_result"
    }
   ],
   "source": [
    "cv2.imwrite('test5.jpg',img_dilation)"
   ]
  },
  {
   "cell_type": "code",
   "execution_count": 43,
   "metadata": {},
   "outputs": [
    {
     "name": "stdout",
     "output_type": "stream",
     "text": [
      "\f",
      "\n"
     ]
    }
   ],
   "source": [
    "print(pytesseract.image_to_string(Image.open('test5.jpg'), lang='ben'))"
   ]
  },
  {
   "cell_type": "code",
   "execution_count": null,
   "metadata": {},
   "outputs": [],
   "source": []
  }
 ],
 "metadata": {
  "kernelspec": {
   "display_name": "Python 3",
   "language": "python",
   "name": "python3"
  },
  "language_info": {
   "codemirror_mode": {
    "name": "ipython",
    "version": 3
   },
   "file_extension": ".py",
   "mimetype": "text/x-python",
   "name": "python",
   "nbconvert_exporter": "python",
   "pygments_lexer": "ipython3",
   "version": "3.8.5"
  }
 },
 "nbformat": 4,
 "nbformat_minor": 4
}
