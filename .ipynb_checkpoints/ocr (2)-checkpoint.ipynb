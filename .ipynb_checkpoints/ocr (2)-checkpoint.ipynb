{
 "cells": [
  {
   "cell_type": "code",
   "execution_count": 2,
   "metadata": {},
   "outputs": [],
   "source": [
    "from PIL import Image    \n",
    "import pytesseract \n",
    "import  shutil\n",
    "pytesseract.pytesseract.tesseract_cmd = r'C:\\\\Program Files\\\\Tesseract-OCR\\\\tesseract.exe'\n"
   ]
  },
  {
   "cell_type": "code",
   "execution_count": 8,
   "metadata": {
    "tags": []
   },
   "outputs": [],
   "source": [
    "from glob import glob\n",
    "imgnm = []\n",
    "txtnm = []\n",
    "images = glob('./gray_images_name/*.jpg')\n",
    "for imgs in images:\n",
    "    txt = pytesseract.image_to_string(Image.open(imgs), lang='ben')\n",
    "    img_name = imgs.split('\\\\')[-1]\n",
    "    if len(txt)>3:\n",
    "        # print(len(txt))\n",
    "        shutil.copy(imgs, './vrfyd_gray_images_name/'+img_name)\n",
    "        imgnm.append(img_name+'\\n')\n",
    "        txtnm.append(txt+'\\n')\n",
    "\n",
    "\n",
    "output_file = open('./vrfyd_gray_images_name/name.txt', 'w', encoding=\"utf-8\")\n",
    "for im, tx in zip(imgnm, txtnm):\n",
    "    output_file.write(im)\n",
    "    output_file.write(tx)\n",
    "output_file.close()"
   ]
  },
  {
   "cell_type": "code",
   "execution_count": null,
   "metadata": {
    "tags": []
   },
   "outputs": [],
   "source": [
    "from glob import glob\n",
    "\n",
    "imgnm = []\n",
    "txtnm = []\n",
    "\n",
    "images = glob('./gray_images_info/*.jpg')\n",
    "for imgs in images:\n",
    "    txt = pytesseract.image_to_string(Image.open(imgs), lang='ben')\n",
    "    img_name = imgs.split('\\\\')[-1]\n",
    "    if len(txt)>3:\n",
    "        shutil.copy(imgs, './vrfyd_gray_images_info/'+img_name)\n",
    "        imgnm.append(img_name+'\\n')\n",
    "        txtnm.append(txt+'\\n')\n",
    "        # print(img_name)\n",
    "        # print(txt)\n",
    "        \n",
    "output_file = open('./vrfyd_gray_images_info/info.txt', 'w', encoding=\"utf-8\")\n",
    "for im, tx in zip(imgnm, txtnm):\n",
    "    output_file.write(im)\n",
    "    output_file.write(tx)\n",
    "output_file.close()"
   ]
  },
  {
   "cell_type": "code",
   "execution_count": null,
   "metadata": {},
   "outputs": [],
   "source": [
    "print(\"successful\")"
   ]
  },
  {
   "cell_type": "code",
   "execution_count": null,
   "metadata": {},
   "outputs": [],
   "source": [
    "# import cv2\n",
    "# import numpy as np\n",
    "\n",
    "# img = cv2.imread('test2.png')\n",
    "# img2 = cv2.imread('test3.jpg')\n",
    "# img3 = cv2.imread('4.jpg')\n",
    "\n",
    "# kernel = np.ones((5,5), np.uint8)\n",
    "# img_dilation = cv2.dilate(Binary, kernel, iterations=3)\n",
    "\n",
    "# cv2.imshow('Dilation', img_dilation)\n",
    "  \n",
    "# cv2.waitKey(0)"
   ]
  },
  {
   "cell_type": "code",
   "execution_count": null,
   "metadata": {},
   "outputs": [],
   "source": [
    "# # image = cv2.imread(pics+\"/\"+pictures)\n",
    "\n",
    "# # image = cv2.resize(image,(32, 32))\n",
    "# # #         print(image.shape)\n",
    "# # sts = cv2.imwrite(path + '/MainImage.jpg', image)\n",
    "# #         print(sts)\n",
    "\n",
    "# #cv2.imshow('Main Image',image)\n",
    "# #cv2.waitKey(0)\n",
    "# Gray = cv2.cvtColor(img3, cv2.COLOR_BGR2GRAY)\n",
    "# ret,Binary=cv2.threshold(Gray,115,256,cv2.THRESH_BINARY)\n",
    "# # sts=cv2.imwrite(path+'/'+pictures[:-4]+'_binary.jpg',Binary)\n",
    "# # #         print(sts)\n",
    "\n",
    "# # Binary = np.where(Binary==255, 0, Binary) #255 means white\n",
    "# # Binary = np.where(Binary==0, 1, Binary) #0 means black\n"
   ]
  },
  {
   "cell_type": "code",
   "execution_count": null,
   "metadata": {},
   "outputs": [],
   "source": [
    "\n",
    "# cv2.imshow('Dilation', Binary)\n",
    "  \n",
    "# cv2.waitKey(0)"
   ]
  },
  {
   "cell_type": "code",
   "execution_count": null,
   "metadata": {},
   "outputs": [],
   "source": [
    "# cv2.imwrite('tstt2.jpg',Binary)"
   ]
  },
  {
   "cell_type": "code",
   "execution_count": null,
   "metadata": {},
   "outputs": [],
   "source": [
    "# print(pytesseract.image_to_string(Gray, lang='ben'))"
   ]
  },
  {
   "cell_type": "code",
   "execution_count": null,
   "metadata": {},
   "outputs": [],
   "source": [
    "# Binary.shape"
   ]
  }
 ],
 "metadata": {
  "kernelspec": {
   "display_name": "Python 3 (ipykernel)",
   "language": "python",
   "name": "python3"
  },
  "language_info": {
   "codemirror_mode": {
    "name": "ipython",
    "version": 3
   },
   "file_extension": ".py",
   "mimetype": "text/x-python",
   "name": "python",
   "nbconvert_exporter": "python",
   "pygments_lexer": "ipython3",
   "version": "3.9.7"
  }
 },
 "nbformat": 4,
 "nbformat_minor": 4
}
